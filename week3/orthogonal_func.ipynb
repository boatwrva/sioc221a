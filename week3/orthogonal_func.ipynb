{
 "cells": [
  {
   "cell_type": "code",
   "execution_count": 26,
   "id": "7eee1299",
   "metadata": {},
   "outputs": [],
   "source": [
    "def orthogonality(n,m): \n",
    "    # demonstrate that 2 waves are orthogonal to each other \n",
    "    # compute integral from 0 to 2*pi of functions and see if they are opposite \n",
    "    import numpy as np \n",
    "    import scipy.integrate as integrals \n",
    "    \n",
    "    dt = 0.01\n",
    "    time = np.arange(0,2*np.pi,dt)\n",
    "    # waves: cos(w*t)\n",
    "    wave1 = cos(m*time)\n",
    "    wave2 = cos(n*time)\n",
    "    \n",
    "    integral = 0\n",
    "    # integrate both waves together\n",
    "    for ii in np.arange(0,len(time)): \n",
    "        step = wave1[ii]*wave2[ii] # f(b) -f(a)\n",
    "        integral = integral + step*dt \n",
    "        \n",
    "    # compare with scipy \n",
    "    bulk = integrals.quad(lambda x: np.cos(2*np.pi*m*x)*np.cos(2*np.pi*n*x),0,2*np.pi)\n",
    "    \n",
    "    \n",
    "    print('Are they orthogonal?')\n",
    "    print(f'Integral over 2 waves = {integral}')\n",
    "    \n",
    "    if integral < 0.05: \n",
    "        print('Near zero --> waves are orthogonal!')\n",
    "    else: \n",
    "        print('Not near zero --> waves are additive')\n",
    "    return integral\n",
    "    \n",
    "\n",
    "\n",
    "\n",
    "\n"
   ]
  },
  {
   "cell_type": "code",
   "execution_count": 8,
   "id": "4a1059f4",
   "metadata": {},
   "outputs": [],
   "source": [
    "import numpy as np \n",
    "import scipy.integrate as integrals \n",
    "\n",
    "n = 2; \n",
    "m = 2; dt = 0.01\n",
    "time = np.arange(0,2*np.pi,dt)\n",
    "wave1 = np.cos(m*time)\n",
    "wave2 = np.cos(n*time)\n",
    "    \n",
    "integral = 0\n",
    "# integrate both waves together\n",
    "for ii in np.arange(0,len(time)): \n",
    "    step = wave1[ii]*wave2[ii] # f(b) -f(a)\n",
    "    integral = integral + step*dt \n",
    "    \n",
    "# compare with scipy \n",
    "function=wave1*wave2\n",
    "bulk = integrals.quad(lambda x: np.cos(2*np.pi*m*x)*np.cos(2*np.pi*n*x),0,2*np.pi)"
   ]
  },
  {
   "cell_type": "code",
   "execution_count": 22,
   "id": "3be3c7da",
   "metadata": {},
   "outputs": [],
   "source": []
  },
  {
   "cell_type": "code",
   "execution_count": 23,
   "id": "e2faa36c",
   "metadata": {},
   "outputs": [
    {
     "data": {
      "text/plain": [
       "3.1484073989343053"
      ]
     },
     "execution_count": 23,
     "metadata": {},
     "output_type": "execute_result"
    }
   ],
   "source": [
    "integral"
   ]
  },
  {
   "cell_type": "code",
   "execution_count": 24,
   "id": "484714d5",
   "metadata": {},
   "outputs": [
    {
     "data": {
      "text/plain": [
       "(3.156327423527269, 1.1568762178491864e-12)"
      ]
     },
     "execution_count": 24,
     "metadata": {},
     "output_type": "execute_result"
    }
   ],
   "source": [
    "bulk"
   ]
  }
 ],
 "metadata": {
  "kernelspec": {
   "display_name": "Python 3 (ipykernel)",
   "language": "python",
   "name": "python3"
  },
  "language_info": {
   "codemirror_mode": {
    "name": "ipython",
    "version": 3
   },
   "file_extension": ".py",
   "mimetype": "text/x-python",
   "name": "python",
   "nbconvert_exporter": "python",
   "pygments_lexer": "ipython3",
   "version": "3.10.12"
  }
 },
 "nbformat": 4,
 "nbformat_minor": 5
}
