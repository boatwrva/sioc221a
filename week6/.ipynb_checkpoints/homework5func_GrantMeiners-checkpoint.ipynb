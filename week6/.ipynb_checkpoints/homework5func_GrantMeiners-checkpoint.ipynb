{
 "cells": [
  {
   "cell_type": "code",
   "execution_count": 1,
   "id": "b67005c2-5f1a-4ab1-96d5-da76f165d902",
   "metadata": {},
   "outputs": [],
   "source": [
    "def spectrum(data, interval, detrend=True, Hanning=True):\n",
    "    '''\n",
    "    This function is used to make a spectrum given a time-series dataset and the time interval between samples\n",
    "    in the dataset.\n",
    "\n",
    "    Arguments:\n",
    "        data (array) : A 1-d data array of which to have the spectrum computed\n",
    "        interval (float) : Time interval between samples in data\n",
    "        detrend (boolean) : Whether the data should be detrended before the spectrum is found\n",
    "        Hanning (boolean) : Whether a Hanning window should be applied to the data before the spectrum is found\n",
    "\n",
    "    Returns:\n",
    "        spectrum (array) : A 1-d array containing the spectral values of the input data, in units (data units)\n",
    "                            squared per frequency (cycles per time interval unit)\n",
    "        f_range_pos (array) : A 1-d array containing the frequency values corresponding to each spectral value,\n",
    "                            in units of cycles per time interval unit\n",
    "    '''\n",
    "    N = len(data)\n",
    "    f_range = np.fft.fftfreq(N, d=interval) #creating an array of frequencies\n",
    "    f_range_pos = f_range[(f_range > 0)] #creating an array of positive frequencies\n",
    "    delta_f = 1/(N*interval) #finding the fundamental frequency\n",
    "\n",
    "    \n",
    "    x = np.linspace(-0.5, 0.5, N) # Hanning domain\n",
    "    hanning = np.sqrt(8/3)*((np.cos(x*np.pi))**2) # Hanning values\n",
    "\n",
    "    # various different ffts to be taken, depending on the detrend and Hanning conditions\n",
    "    if detrend and Hanning:\n",
    "        fft=np.fft.fft(hanning*signal.detrend(data)) #applying Hanning window and detrend\n",
    "    elif detrend and Hanning == False:\n",
    "        fft = np.fft.fft(signal.detrend(data)) #applying just detrend\n",
    "    elif detrend == False and Hanning:\n",
    "        fft = np.fft.fft(hanning*data) #applying just Hanning window\n",
    "    else: \n",
    "        fft = np.fft.fft(data) #just FFTing raw data\n",
    "\n",
    "    normal = np.abs(fft[(f_range > 0)])/N #normalize and only use positive freqs\n",
    "    spectrum = 2*(normal**2)/delta_f #spectra formula and multiply by 2 to account for negative frequencies\n",
    "\n",
    "    return spectrum, f_range_pos"
   ]
  },
  {
   "cell_type": "code",
   "execution_count": null,
   "id": "4ef72ffb-1969-4d83-88dd-fda220dd237a",
   "metadata": {},
   "outputs": [],
   "source": []
  }
 ],
 "metadata": {
  "kernelspec": {
   "display_name": "Python 3",
   "language": "python",
   "name": "python3"
  },
  "language_info": {
   "codemirror_mode": {
    "name": "ipython",
    "version": 3
   },
   "file_extension": ".py",
   "mimetype": "text/x-python",
   "name": "python",
   "nbconvert_exporter": "python",
   "pygments_lexer": "ipython3",
   "version": "3.8.8"
  }
 },
 "nbformat": 4,
 "nbformat_minor": 5
}
