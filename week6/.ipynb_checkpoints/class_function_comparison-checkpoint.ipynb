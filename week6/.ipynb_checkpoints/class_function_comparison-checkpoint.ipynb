{
 "cells": [
  {
   "cell_type": "code",
   "execution_count": 25,
   "id": "bcfbeeb2",
   "metadata": {},
   "outputs": [
    {
     "name": "stderr",
     "output_type": "stream",
     "text": [
      "C:\\Users\\vboat\\conda3\\lib\\site-packages\\scipy\\__init__.py:138: UserWarning: A NumPy version >=1.16.5 and <1.23.0 is required for this version of SciPy (detected version 1.24.4)\n",
      "  warnings.warn(f\"A NumPy version >={np_minversion} and <{np_maxversion} is required for this version of \"\n"
     ]
    }
   ],
   "source": [
    "# in class using different functions \n",
    "\n",
    "import numpy as np \n",
    "import matplotlib.pyplot as plt\n",
    "import xarray as xr \n",
    "import datetime as dt \n",
    "\n",
    "import scipy \n",
    "from scipy import signal\n"
   ]
  },
  {
   "cell_type": "code",
   "execution_count": 14,
   "id": "baaf14b8",
   "metadata": {},
   "outputs": [],
   "source": [
    "# function to download wind data and fill missing values \n",
    "\n",
    "def download_winds(url,plotting=0): \n",
    "    import numpy as np \n",
    "    import matplotlib.pyplot as plt\n",
    "    import xarray as xr \n",
    "    import datetime as dt \n",
    "    import netCDF4\n",
    "\n",
    "\n",
    "    \n",
    "    s0 = dt.datetime(1950,1,1); \n",
    "\n",
    "    nc = netCDF4.Dataset(url)\n",
    "    # making a date array based on time units from netcdf file\n",
    "    time = nc['TIME'][:]; dates = [s0+dt.timedelta(days=float(tt)) for tt in time]\n",
    "    ht = nc['HEIGHT'][:]\n",
    "    lon = nc['LONGITUDE'][:]; lat = nc['LATITUDE'][:]\n",
    "\n",
    "    wind = nc['WSPD'][:]; wind[wind<0] = np.nan # make nan when not physical \n",
    "    wind = np.squeeze(wind.data) # make into a 1D array (before it was a (47605,1) shaped array)\n",
    "    # make into a xarray so we can use interpolate_na function \n",
    "    dw = xr.DataArray(data=wind.data,dims=\"time\", coords={\"time\": time})\n",
    "    dw = dw.interpolate_na(dim='time',method=\"linear\")\n",
    "    wind = dw.values\n",
    "    \n",
    "    u = nc['UWND'][:]; u[u<=-998] = np.nan # make nan when fillValue\n",
    "    u = np.squeeze(u.data) # make into a 1D array (before it was a (47605,1) shaped array)\n",
    "    du = xr.DataArray(data=u.data,dims=\"time\", coords={\"time\": time})\n",
    "    du = du.interpolate_na(dim='time',method=\"linear\") \n",
    "    u = du.values\n",
    "    \n",
    "    v = nc['VWND'][:]; v[v<=-998] = np.nan # make nan when fillValue\n",
    "    v = np.squeeze(v.data) # make into a 1D array (before it was a (47605,1) shaped array)\n",
    "    dv = xr.DataArray(data=v.data,dims=\"time\", coords={\"time\": time})\n",
    "    dv = dv.interpolate_na(dim='time',method=\"linear\") \n",
    "    v = dv.values\n",
    "    \n",
    "    # plot if desirable\n",
    "    if plotting == 1: \n",
    "        plots = [wind,u,v]; labels = ['wind speed [m/s]','u [m/s]','v [m/s]']; titles = ['Total Wind Speed', 'Zonal Wind', 'Meridionial Wind']\n",
    "        fig,axes = plt.subplots(3,1,figsize=(14,20))\n",
    "        fig.suptitle('Raw Wind Speed Timeseries',y=0.95,fontweight='bold')\n",
    "        for nn,ax in enumerate(axes): \n",
    "            ax.grid()\n",
    "            ax.plot(dates,plots[nn])\n",
    "            ax.set(ylabel=labels[nn]); # ax.set(title=titles[nn])\n",
    "            ax.xaxis.set_major_formatter(mdates.DateFormatter('%m-%Y'))\n",
    "            ax.xaxis.set_major_locator(mdates.MonthLocator())\n",
    "            ax.tick_params(axis='x', labelrotation = -45)\n",
    "        plt.show()\n",
    "    \n",
    "    return time, wind, u, v"
   ]
  },
  {
   "cell_type": "code",
   "execution_count": 15,
   "id": "71e661f3",
   "metadata": {},
   "outputs": [],
   "source": [
    "# function for windowing  \n",
    "\n",
    "def windowing(time,data,tseg=60,deltat=10): \n",
    "    # make sure time segments (tseg) must be in units of days \n",
    "    # inputs = full time and full data of interest timeseries\n",
    "    # this assumes the dt is 10 min, but that could be easily changed - as long as it is in minutes!\n",
    "    \n",
    "    # number of tseg intervals encompassed in full dataset\n",
    "    intervals = int(np.floor((time[-1]-time[0])/tseg))\n",
    "    # with 50% overlaps, it will be doubled but 1 less (because start 50% and end 50%)\n",
    "    cycles = (intervals*2)-1\n",
    "\n",
    "    num_samples = int(tseg/deltat *60*24) # number of samples if taken every 10 min in 60 days \n",
    "\n",
    "\n",
    "    # can make arrays the correct size because we know how many 10 min samples will be in 60 days \n",
    "    # each array = (segment num, data within segment) \n",
    "    data_segs = np.zeros((cycles,num_samples))\n",
    "    time_segs = np.zeros((cycles,num_samples))\n",
    "\n",
    "    ind = 0\n",
    "    jump = int(num_samples/2); \n",
    "    for nn in np.arange(0,cycles): \n",
    "        # looping through each segment in which we will save data \n",
    "        data_segs[nn,:] = data[ind:ind+num_samples]\n",
    "        time_segs[nn,:] = time[ind:ind+num_samples]\n",
    "        \n",
    "        # now add to the ind (start index) and jump (number of samples in the segment = 8640)\n",
    "        ind = ind + jump\n",
    "\n",
    "    return time_segs,data_segs"
   ]
  },
  {
   "cell_type": "code",
   "execution_count": 65,
   "id": "5d1f1aeb",
   "metadata": {},
   "outputs": [],
   "source": [
    "# victoria's function \n",
    "\n",
    "# function for fft and spectra analysis \n",
    "\n",
    "def fft_analysis(data,time,demean=1,detrend=1,hanning=1):\n",
    "    # specifications for inputs: \n",
    "    # data_array should be size = (segments,data_in_segment); each data_in_segment column should be the same length\n",
    "    # time array = should be the same size as data_array, could adapted for just a 1D vector. \n",
    "    # aka: you must window properly before using this function \n",
    "    # then, selecting whether to demean, detrend, hanning window, etc. \n",
    "    \n",
    "    # all segment lengths should be the same \n",
    "    N = len(data[0,:])  # == num_samples\n",
    "    deltat = np.diff(time)\n",
    "    step = np.nanmean(deltat) # step size (in days)\n",
    "    Nyq = 1/(2*step) # Nyquist frequency\n",
    "    period = step*N # this is the entire period (in days)\n",
    "    df = 1/period # fundamental frequency\n",
    "    segs = len(data[:,0])\n",
    "    M = segs\n",
    "    \n",
    "    # start workflow: analyze each segment individually \n",
    "\n",
    "    # fft & spectra of interest to be averaged \n",
    "    fft_oi = np.zeros((segs,N))\n",
    "    amp_oi = np.zeros((segs,int(N/2)))\n",
    "    \n",
    "\n",
    "    for nn in np.arange(0,segs):\n",
    "        segment = data[nn,:]\n",
    "        segtime = time[nn,:]\n",
    "    \n",
    "        # demean & detrend \n",
    "    \n",
    "        # calculate mean and linear trend \n",
    "        AA = np.array([np.ones(N), segtime]).T\n",
    "        x = np.dot(np.linalg.inv(np.dot(AA.T, AA)), np.dot(AA.T, segment))\n",
    "        mean = x[0]; trend = x[1]\n",
    "        mymean = np.nanmean(segment)\n",
    "\n",
    "        if demean==1: \n",
    "            segment = segment-mean # demean by calculated mean \n",
    "        \n",
    "        if detrend==1: \n",
    "            segment = segment-trend*segtime # detrend from calculated trend\n",
    "        \n",
    "        if hanning==1: \n",
    "            hanwin = np.cos(np.pi*segtime / period)**2 # calculate hanning window\n",
    "            segment = segment*hanwin*np.sqrt(8/3) # normalize hanning window by sqrt(8/3)\n",
    "            \n",
    "        # compute each segment spectrum \n",
    "        # fourier \n",
    "        fft = scipy.fft.fft(segment); \n",
    "        freq = scipy.fft.fftfreq(N,step)\n",
    "        freq = scipy.fft.fftshift(freq)\n",
    "        fftplot = scipy.fft.fftshift(fft)\n",
    "        norm_fft = 1.0/N * np.abs(fftplot)\n",
    "    \n",
    "        even_idx = np.arange(0,N,2)\n",
    "        amp = abs(norm_fft[even_idx])**2 # even N \n",
    "        \n",
    "        # corresponding frequencies based on data length\n",
    "        freqs = np.arange(0,Nyq,df) # frequency vector, in [1/day], goes from 0 to Nyquist\n",
    "    \n",
    "        # do the steps for the spectrum: \n",
    "        amp = amp/(N**2) # correct normalization \n",
    "        amp = amp*2 # account for discarded redundant complex FFT coefficients \n",
    "        amp = amp/df \n",
    "        \n",
    "        fft_oi[nn,:] = norm_fft\n",
    "        amp_oi[nn,:] = amp\n",
    "    \n",
    "    avg_fft = np.nanmean(fft_oi,axis=0)\n",
    "    tot_amp = np.nanmean(amp_oi,axis=0)\n",
    "    \n",
    "    nu = 2*M # degrees of freedom \n",
    "    top = 1-0.05/2; bot = 0.05/2 \n",
    "    err_low = nu/(scipy.stats.chi2.ppf(top, nu)); err_high = nu/(scipy.stats.chi2.ppf(bot, nu))\n",
    "    \n",
    "    return freqs, avg_fft, tot_amp, err_low, err_high\n"
   ]
  },
  {
   "cell_type": "code",
   "execution_count": 26,
   "id": "bea036d6",
   "metadata": {},
   "outputs": [],
   "source": [
    "# grant's function for spectra \n",
    "\n",
    "def spectrum(data, interval, detrend=True, Hanning=True):\n",
    "    '''\n",
    "    This function is used to make a spectrum given a time-series dataset and the time interval between samples\n",
    "    in the dataset.\n",
    "\n",
    "    Arguments:\n",
    "        data (array) : A 1-d data array of which to have the spectrum computed\n",
    "        interval (float) : Time interval between samples in data\n",
    "        detrend (boolean) : Whether the data should be detrended before the spectrum is found\n",
    "        Hanning (boolean) : Whether a Hanning window should be applied to the data before the spectrum is found\n",
    "\n",
    "    Returns:\n",
    "        spectrum (array) : A 1-d array containing the spectral values of the input data, in units (data units)\n",
    "                            squared per frequency (cycles per time interval unit)\n",
    "        f_range_pos (array) : A 1-d array containing the frequency values corresponding to each spectral value,\n",
    "                            in units of cycles per time interval unit\n",
    "    '''\n",
    "    import scipy.signal as signal\n",
    "    N = len(data)\n",
    "    f_range = np.fft.fftfreq(N, d=interval) #creating an array of frequencies\n",
    "    f_range_pos = f_range[(f_range > 0)] #creating an array of positive frequencies\n",
    "    delta_f = 1/(N*interval) #finding the fundamental frequency\n",
    "\n",
    "    \n",
    "    x = np.linspace(-0.5, 0.5, N) # Hanning domain\n",
    "    hanning = np.sqrt(8/3)*((np.cos(x*np.pi))**2) # Hanning values\n",
    "\n",
    "    # various different ffts to be taken, depending on the detrend and Hanning conditions\n",
    "    if detrend and Hanning:\n",
    "        fft=np.fft.fft(hanning*signal.detrend(data)) #applying Hanning window and detrend\n",
    "    elif detrend and Hanning == False:\n",
    "        fft = np.fft.fft(signal.detrend(data)) #applying just detrend\n",
    "    elif detrend == False and Hanning:\n",
    "        fft = np.fft.fft(hanning*data) #applying just Hanning window\n",
    "    else: \n",
    "        fft = np.fft.fft(data) #just FFTing raw data\n",
    "\n",
    "    normal = np.abs(fft[(f_range > 0)])/N #normalize and only use positive freqs\n",
    "    spectrum = 2*(normal**2)/delta_f #spectra formula and multiply by 2 to account for negative frequencies\n",
    "\n",
    "    return spectrum, f_range_pos"
   ]
  },
  {
   "cell_type": "code",
   "execution_count": 69,
   "id": "c8ff38e3",
   "metadata": {},
   "outputs": [
    {
     "data": {
      "text/plain": [
       "(9, 8640)"
      ]
     },
     "execution_count": 69,
     "metadata": {},
     "output_type": "execute_result"
    }
   ],
   "source": [
    "tsegs15.shape"
   ]
  },
  {
   "cell_type": "code",
   "execution_count": 67,
   "id": "4e7a5f8e",
   "metadata": {},
   "outputs": [],
   "source": [
    "link = 'https://dods.ndbc.noaa.gov/thredds/dodsC/oceansites/DATA/T8S110W/OS_T8S110W_DM134A-20150425_D_WIND_10min.nc'\n",
    "\n",
    "# downloading \n",
    "[t15,w15,u15,v15] = download_winds(link)\n",
    "\n",
    "# windowing\n",
    "[tsegs15,wsegs15] = windowing(t15,w15,tseg=60)\n",
    "\n",
    "# grant's funtion \n",
    "\n",
    "interval = 10/(24*60); \n",
    "specs = np.zeros((len(tsegs15[:,0]),int(len(tsegs15[0,:])/2)-1))\n",
    "\n",
    "for nn,ww in enumerate(wsegs15): \n",
    "    [spec,f_range_pos] = spectrum(ww,interval)\n",
    "    specs[nn,:] = spec\n",
    "    \n",
    "avg_spec = np.nanmean(specs,axis=0)\n",
    "frequency = f_range_pos \n",
    "    \n",
    "# use victoria's function \n",
    "\n",
    "# finding spectra for multi-year spectra \n",
    "[f,fft,amp,erl,erh] = fft_analysis(wsegs15,tsegs15,demean=1,detrend=1,hanning=1)\n",
    "\n",
    "\n"
   ]
  },
  {
   "cell_type": "code",
   "execution_count": 55,
   "id": "a8b0e37e",
   "metadata": {},
   "outputs": [
    {
     "data": {
      "text/plain": [
       "array([9.89098033e-12, 1.77479611e-11, 5.82344197e-11, ...,\n",
       "       5.07071850e-11, 5.82344197e-11, 1.77479611e-11])"
      ]
     },
     "execution_count": 55,
     "metadata": {},
     "output_type": "execute_result"
    }
   ],
   "source": [
    "amp"
   ]
  },
  {
   "cell_type": "code",
   "execution_count": 68,
   "id": "b9d6eb6e",
   "metadata": {},
   "outputs": [
    {
     "data": {
      "image/png": "[encoded data removed]",
      "text/plain": [
       "<Figure size 864x576 with 1 Axes>"
      ]
     },
     "metadata": {
      "needs_background": "light"
     },
     "output_type": "display_data"
    }
   ],
   "source": [
    "# plot comparing spectra \n",
    "\n",
    "fig,ax = plt.subplots(1,1,figsize=(12,8))\n",
    "plt.suptitle(r'FFT Spectrum $\\Phi$ for 2015 Wind Speed')\n",
    "ax.plot(frequency,avg_spec,label='Grant Spectrum',color='tab:red',zorder=1)\n",
    "\n",
    "ax.plot(f[:-1],amp,label='Victoria Spectrum',color='tab:blue',zorder=2)\n",
    "\n",
    "ax.set_xscale('log'); ax.set_yscale('log')\n",
    "ax.set(ylabel=r'$\\Phi$ [$ \\frac{(m^2 s^{-2})}{ cycles per day } $]',xlabel=r'FFT Frequencies [cycles per day]')\n",
    "ax.axvline(x=1,linestyle='--')\n",
    "#ax.set_ylim([10e-5, 10e1])\n",
    "ax.legend(fontsize=10,loc='upper right')\n",
    "plt.show()\n"
   ]
  }
 ],
 "metadata": {
  "kernelspec": {
   "display_name": "Python 3",
   "language": "python",
   "name": "python3"
  },
  "language_info": {
   "codemirror_mode": {
    "name": "ipython",
    "version": 3
   },
   "file_extension": ".py",
   "mimetype": "text/x-python",
   "name": "python",
   "nbconvert_exporter": "python",
   "pygments_lexer": "ipython3",
   "version": "3.8.8"
  }
 },
 "nbformat": 4,
 "nbformat_minor": 5
}
