{
 "cells": [
  {
   "cell_type": "code",
   "execution_count": null,
   "id": "1251d8b4-540f-405a-b0f6-cdb9e22a9b6c",
   "metadata": {},
   "outputs": [],
   "source": [
    "# SIOC 221A Class 1: \n",
    "\n",
    "def is_prime(n): \n",
    "    i = 2; \n",
    "    while i < n/2: \n",
    "        if n % i == 0: \n",
    "            return 0\n",
    "        i = i + 1; \n",
    "    return 1 \n",
    "\n"
   ]
  }
 ],
 "metadata": {
  "kernelspec": {
   "display_name": "Python 3",
   "language": "python",
   "name": "python3"
  },
  "language_info": {
   "codemirror_mode": {
    "name": "ipython",
    "version": 3
   },
   "file_extension": ".py",
   "mimetype": "text/x-python",
   "name": "python",
   "nbconvert_exporter": "python",
   "pygments_lexer": "ipython3",
   "version": "3.8.8"
  }
 },
 "nbformat": 4,
 "nbformat_minor": 5
}
