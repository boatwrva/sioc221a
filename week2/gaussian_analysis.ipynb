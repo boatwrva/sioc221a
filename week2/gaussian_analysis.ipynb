{
 "cells": [
  {
   "cell_type": "code",
   "execution_count": 3,
   "id": "27d23e1d",
   "metadata": {},
   "outputs": [],
   "source": [
    "import numpy as np \n",
    "import matplotlib.pyplot as plt "
   ]
  },
  {
   "cell_type": "code",
   "execution_count": 19,
   "id": "231340a1",
   "metadata": {},
   "outputs": [
    {
     "data": {
      "image/png": "[encoded data removed]",
      "text/plain": [
       "<Figure size 432x288 with 1 Axes>"
      ]
     },
     "metadata": {
      "needs_background": "light"
     },
     "output_type": "display_data"
    },
    {
     "data": {
      "image/png": "[encoded data removed]",
      "text/plain": [
       "<Figure size 432x288 with 2 Axes>"
      ]
     },
     "metadata": {
      "needs_background": "light"
     },
     "output_type": "display_data"
    }
   ],
   "source": [
    "# coding exercise from class \n",
    "\n",
    "N = 1000\n",
    "n = 2 \n",
    "rand_x = np.random.rand(N)\n",
    "norm_x = np.random.randn(N)\n",
    "\n",
    "fig,ax = plt.subplots()\n",
    "ax.hist(norm_x)\n",
    "ax.hist(rand_x)\n",
    "plt.show()\n",
    "\n",
    "# randn ==> standard deviation of 1 \n",
    "# \n",
    "\n",
    "\n",
    "G_vars = np.array([np.random.rand(N) for i in np.arange(0,n)])\n",
    "G_sum = np.array()\n",
    "\n",
    "fig,ax = plt.subplots()\n",
    "p = 0\n",
    "for nn in np.arange(0,n): \n",
    "    p = p + 1 \n",
    "    ax = plt.subplot(n,1,p)\n",
    "    ax.hist(G_vars[nn],bins=20)\n",
    "plt.show()\n"
   ]
  },
  {
   "cell_type": "code",
   "execution_count": 17,
   "id": "4bd7ffba",
   "metadata": {},
   "outputs": [
    {
     "data": {
      "text/plain": [
       "1"
      ]
     },
     "execution_count": 17,
     "metadata": {},
     "output_type": "execute_result"
    }
   ],
   "source": [
    "G = []\n",
    "for c in array: \n",
    "    G.append()"
   ]
  }
 ],
 "metadata": {
  "kernelspec": {
   "display_name": "Python 3 (ipykernel)",
   "language": "python",
   "name": "python3"
  },
  "language_info": {
   "codemirror_mode": {
    "name": "ipython",
    "version": 3
   },
   "file_extension": ".py",
   "mimetype": "text/x-python",
   "name": "python",
   "nbconvert_exporter": "python",
   "pygments_lexer": "ipython3",
   "version": "3.10.12"
  }
 },
 "nbformat": 4,
 "nbformat_minor": 5
}
